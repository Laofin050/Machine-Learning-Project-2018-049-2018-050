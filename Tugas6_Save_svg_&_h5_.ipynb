{
  "nbformat": 4,
  "nbformat_minor": 0,
  "metadata": {
    "colab": {
      "name": "Tugas6_Save svg & h5_.ipynb",
      "provenance": [],
      "collapsed_sections": [],
      "include_colab_link": true
    },
    "kernelspec": {
      "display_name": "Python 3",
      "name": "python3"
    },
    "language_info": {
      "name": "python"
    },
    "accelerator": "GPU"
  },
  "cells": [
    {
      "cell_type": "markdown",
      "metadata": {
        "id": "view-in-github",
        "colab_type": "text"
      },
      "source": [
        "<a href=\"https://colab.research.google.com/github/Laofin050/Machine-Learning-Project-2018-049-2018-050/blob/main/Tugas6_Save_svg_%26_h5_.ipynb\" target=\"_parent\"><img src=\"https://colab.research.google.com/assets/colab-badge.svg\" alt=\"Open In Colab\"/></a>"
      ]
    },
    {
      "cell_type": "markdown",
      "metadata": {
        "id": "B7w19vaA_0jz"
      },
      "source": [
        "**TUGAS 6 - ML - MATERI: Save .svg dan h5**\n",
        "\n",
        "**Feny Septhalia Insyira Putri - 201810370311049**\n",
        "\n",
        "**Laofin Arifa - 201810370311050**"
      ]
    },
    {
      "cell_type": "markdown",
      "metadata": {
        "id": "OBzdIotaQp0a"
      },
      "source": [
        "**LOAD DATA**"
      ]
    },
    {
      "cell_type": "code",
      "metadata": {
        "colab": {
          "base_uri": "https://localhost:8080/"
        },
        "id": "UwazHos4Z5pp",
        "outputId": "6217d9bc-509b-49cd-cd84-3bb78fab501b"
      },
      "source": [
        "!kaggle datasets download -d paultimothymooney/chest-xray-pneumonia"
      ],
      "execution_count": 3,
      "outputs": [
        {
          "output_type": "stream",
          "name": "stdout",
          "text": [
            "Downloading chest-xray-pneumonia.zip to /content\n",
            "100% 2.29G/2.29G [00:45<00:00, 63.9MB/s]\n",
            "100% 2.29G/2.29G [00:45<00:00, 54.6MB/s]\n"
          ]
        }
      ]
    },
    {
      "cell_type": "code",
      "metadata": {
        "id": "wgU-yDUG4yS3"
      },
      "source": [
        "api_token = {\"username\":\"fenysepthalia09\",\"key\":\"d6f7a0d96b5b3b3e3aaa71f0afe86737\"}\n",
        "import json\n",
        "import zipfile\n",
        "import os\n",
        "with open('/root/.kaggle/kaggle.json', 'w') as file:\n",
        "    json.dump(api_token, file)\n",
        "!chmod 600 /root/.kaggle/kaggle.json"
      ],
      "execution_count": 2,
      "outputs": []
    },
    {
      "cell_type": "code",
      "metadata": {
        "id": "hoXSjW0pa9Oc"
      },
      "source": [
        "import os\n",
        "import zipfile\n",
        "\n",
        "local_zip = '/content/chest-xray-pneumonia.zip' #lokasi zip\n",
        "zip_ref = zipfile.ZipFile(local_zip, 'r') # file zip\n",
        "zip_ref.extractall('/content/') #ekstrak zip\n",
        "zip_ref.close()"
      ],
      "execution_count": 4,
      "outputs": []
    },
    {
      "cell_type": "markdown",
      "metadata": {
        "id": "2ygelq7y_k1p"
      },
      "source": [
        "**DATA PREPROCESSING**"
      ]
    },
    {
      "cell_type": "code",
      "metadata": {
        "id": "HQVHKMRlnMdv",
        "colab": {
          "base_uri": "https://localhost:8080/"
        },
        "outputId": "553b6a21-887d-4996-95e4-8faa12f871d8"
      },
      "source": [
        "import os\n",
        "import cv2 \n",
        "import numpy as np\n",
        "\n",
        "# Gather data train\n",
        "train_data = []\n",
        "train_label = []\n",
        "\n",
        "train_dir=os.path.join('/content/chest_xray/train')\n",
        "for r, d, f in os.walk(train_dir):\n",
        "    for file in f:\n",
        "        if \".jpeg\" in file:\n",
        "            imagePath = os.path.join(r, file)\n",
        "            image = cv2.imread(imagePath)\n",
        "            image = cv2.resize(image, (150,150))\n",
        "            train_data.append(image)\n",
        "            label = imagePath.split(os.path.sep)[-2]\n",
        "            train_label.append(label)\n",
        "\n",
        "train_data = np.array(train_data)\n",
        "train_label = np.array(train_label)\n",
        "\n",
        "print(\"Train Data = \", train_data.shape)\n",
        "print(\"Train Label = \", train_label.shape)"
      ],
      "execution_count": 5,
      "outputs": [
        {
          "output_type": "stream",
          "name": "stdout",
          "text": [
            "Train Data =  (5216, 150, 150, 3)\n",
            "Train Label =  (5216,)\n"
          ]
        }
      ]
    },
    {
      "cell_type": "code",
      "metadata": {
        "id": "HpSWfcM-RjFC",
        "colab": {
          "base_uri": "https://localhost:8080/"
        },
        "outputId": "d054b342-e55a-4a38-96cf-788f79c58e97"
      },
      "source": [
        "test_data = []\n",
        "test_label = []\n",
        "\n",
        "# Gather data test\n",
        "test_dir=os.path.join('/content/chest_xray/test')\n",
        "for r, d, f in os.walk(test_dir):\n",
        "    for file in f:\n",
        "        if \".jpeg\" in file:\n",
        "            imagePath = os.path.join(r, file)\n",
        "            image = cv2.imread(imagePath)\n",
        "            image = cv2.resize(image, (150,150))\n",
        "            test_data.append(image)\n",
        "            label = imagePath.split(os.path.sep)[-2]\n",
        "            test_label.append(label)\n",
        "\n",
        "test_data = np.array(test_data)\n",
        "test_label = np.array(test_label)\n",
        "\n",
        "print(\"Test Data = \", test_data.shape)\n",
        "print(\"Test Label = \", test_label.shape)"
      ],
      "execution_count": 6,
      "outputs": [
        {
          "output_type": "stream",
          "name": "stdout",
          "text": [
            "Test Data =  (624, 150, 150, 3)\n",
            "Test Label =  (624,)\n"
          ]
        }
      ]
    },
    {
      "cell_type": "code",
      "metadata": {
        "colab": {
          "base_uri": "https://localhost:8080/"
        },
        "id": "MMInLh0rSOUg",
        "outputId": "63617a6b-b56a-40dc-a5fc-be09fade9283"
      },
      "source": [
        "# Normalisasi dataset\n",
        "print(\"Data sebelum di-normalisasi \", train_data[0][0][0])\n",
        "x_train = train_data.astype('float32') / 255.0\n",
        "x_test = test_data.astype('float32') / 255.0\n",
        "print(\"Data setelah di-normalisasi \", x_train[0][0][0])"
      ],
      "execution_count": 7,
      "outputs": [
        {
          "output_type": "stream",
          "name": "stdout",
          "text": [
            "Data sebelum di-normalisasi  [52 52 52]\n",
            "Data setelah di-normalisasi  [0.20392157 0.20392157 0.20392157]\n"
          ]
        }
      ]
    },
    {
      "cell_type": "code",
      "metadata": {
        "colab": {
          "base_uri": "https://localhost:8080/"
        },
        "id": "SVL_BAwoSkLV",
        "outputId": "8554a289-3c38-4c93-add9-db55d054436f"
      },
      "source": [
        "from sklearn.preprocessing import LabelEncoder\n",
        "print(\"Label sebelum di-encoder \", train_label[995:1005])\n",
        "\n",
        "lb = LabelEncoder()\n",
        "y_train = lb.fit_transform(train_label)\n",
        "y_test = lb.fit_transform(test_label)\n",
        "\n",
        "print(\"Label setelah di-encoder \", y_train[995:1005])"
      ],
      "execution_count": 8,
      "outputs": [
        {
          "output_type": "stream",
          "name": "stdout",
          "text": [
            "Label sebelum di-encoder  ['NORMAL' 'NORMAL' 'NORMAL' 'NORMAL' 'NORMAL' 'NORMAL' 'NORMAL' 'NORMAL'\n",
            " 'NORMAL' 'NORMAL']\n",
            "Label setelah di-encoder  [0 0 0 0 0 0 0 0 0 0]\n"
          ]
        }
      ]
    },
    {
      "cell_type": "markdown",
      "metadata": {
        "id": "5cty4I2u_pGf"
      },
      "source": [
        "**MODELLING**"
      ]
    },
    {
      "cell_type": "code",
      "metadata": {
        "id": "U-CMwh76StAH"
      },
      "source": [
        "from tensorflow.keras.models import Sequential\n",
        "from tensorflow.keras.layers import InputLayer, Dense, Conv2D, MaxPool2D, Flatten"
      ],
      "execution_count": 9,
      "outputs": []
    },
    {
      "cell_type": "code",
      "metadata": {
        "id": "wZ8kwLWs-AQM"
      },
      "source": [
        "model = Sequential()\n",
        "\n",
        "model.add(InputLayer(input_shape=[150,150,3]))\n",
        "model.add(Conv2D(filters=16, kernel_size=3, strides=1, padding='same', activation='relu'))\n",
        "model.add(MaxPool2D(pool_size=2, padding='same'))\n",
        "model.add(Conv2D(filters=32, kernel_size=3, strides=1, padding='same', activation='relu'))\n",
        "model.add(MaxPool2D(pool_size=2, padding='same'))\n",
        "model.add(Conv2D(filters=64, kernel_size=3, strides=1, padding='same', activation='relu'))\n",
        "model.add(MaxPool2D(pool_size=2, padding='same'))\n",
        "model.add(Flatten())"
      ],
      "execution_count": 10,
      "outputs": []
    },
    {
      "cell_type": "code",
      "metadata": {
        "id": "8dW_S4zu-HcB"
      },
      "source": [
        "model.add(Dense(128, activation='relu'))\n",
        "model.add(Dense(1, activation='sigmoid'))"
      ],
      "execution_count": 11,
      "outputs": []
    },
    {
      "cell_type": "code",
      "metadata": {
        "colab": {
          "base_uri": "https://localhost:8080/"
        },
        "id": "QdPboAYM-HX3",
        "outputId": "3f2b14d8-c7a6-47e9-e485-e20c56b8d76d"
      },
      "source": [
        "print(model.summary())"
      ],
      "execution_count": 12,
      "outputs": [
        {
          "output_type": "stream",
          "name": "stdout",
          "text": [
            "Model: \"sequential\"\n",
            "_________________________________________________________________\n",
            " Layer (type)                Output Shape              Param #   \n",
            "=================================================================\n",
            " conv2d (Conv2D)             (None, 150, 150, 16)      448       \n",
            "                                                                 \n",
            " max_pooling2d (MaxPooling2D  (None, 75, 75, 16)       0         \n",
            " )                                                               \n",
            "                                                                 \n",
            " conv2d_1 (Conv2D)           (None, 75, 75, 32)        4640      \n",
            "                                                                 \n",
            " max_pooling2d_1 (MaxPooling  (None, 38, 38, 32)       0         \n",
            " 2D)                                                             \n",
            "                                                                 \n",
            " conv2d_2 (Conv2D)           (None, 38, 38, 64)        18496     \n",
            "                                                                 \n",
            " max_pooling2d_2 (MaxPooling  (None, 19, 19, 64)       0         \n",
            " 2D)                                                             \n",
            "                                                                 \n",
            " flatten (Flatten)           (None, 23104)             0         \n",
            "                                                                 \n",
            " dense (Dense)               (None, 128)               2957440   \n",
            "                                                                 \n",
            " dense_1 (Dense)             (None, 1)                 129       \n",
            "                                                                 \n",
            "=================================================================\n",
            "Total params: 2,981,153\n",
            "Trainable params: 2,981,153\n",
            "Non-trainable params: 0\n",
            "_________________________________________________________________\n",
            "None\n"
          ]
        }
      ]
    },
    {
      "cell_type": "code",
      "metadata": {
        "colab": {
          "base_uri": "https://localhost:8080/"
        },
        "id": "-uCHhq2ZTkSG",
        "outputId": "a7fe735b-4ed4-495e-bcc8-fdd045b25843"
      },
      "source": [
        "from tensorflow.keras.optimizers import Adam\n",
        "\n",
        "model.compile(optimizer=Adam(lr=0.001), \n",
        "              loss='binary_crossentropy', \n",
        "              metrics=['acc'])"
      ],
      "execution_count": 13,
      "outputs": [
        {
          "output_type": "stream",
          "name": "stderr",
          "text": [
            "/usr/local/lib/python3.7/dist-packages/keras/optimizer_v2/adam.py:105: UserWarning: The `lr` argument is deprecated, use `learning_rate` instead.\n",
            "  super(Adam, self).__init__(name, **kwargs)\n"
          ]
        }
      ]
    },
    {
      "cell_type": "code",
      "metadata": {
        "colab": {
          "base_uri": "https://localhost:8080/"
        },
        "id": "wItXATPN-STp",
        "outputId": "c8239b8d-7a68-49c9-cab3-b305342a3d60"
      },
      "source": [
        "H = model.fit(x_train, y_train, batch_size=20, epochs=15, validation_data=(x_test, y_test))"
      ],
      "execution_count": 14,
      "outputs": [
        {
          "output_type": "stream",
          "name": "stdout",
          "text": [
            "Epoch 1/15\n",
            "261/261 [==============================] - 37s 24ms/step - loss: 0.1948 - acc: 0.9227 - val_loss: 0.6132 - val_acc: 0.7821\n",
            "Epoch 2/15\n",
            "261/261 [==============================] - 6s 22ms/step - loss: 0.0899 - acc: 0.9678 - val_loss: 0.5406 - val_acc: 0.8301\n",
            "Epoch 3/15\n",
            "261/261 [==============================] - 6s 22ms/step - loss: 0.0691 - acc: 0.9780 - val_loss: 0.9485 - val_acc: 0.7644\n",
            "Epoch 4/15\n",
            "261/261 [==============================] - 6s 22ms/step - loss: 0.0510 - acc: 0.9839 - val_loss: 1.2906 - val_acc: 0.7484\n",
            "Epoch 5/15\n",
            "261/261 [==============================] - 6s 22ms/step - loss: 0.0373 - acc: 0.9873 - val_loss: 1.9301 - val_acc: 0.7115\n",
            "Epoch 6/15\n",
            "261/261 [==============================] - 6s 22ms/step - loss: 0.0357 - acc: 0.9873 - val_loss: 1.8682 - val_acc: 0.7356\n",
            "Epoch 7/15\n",
            "261/261 [==============================] - 6s 22ms/step - loss: 0.0191 - acc: 0.9921 - val_loss: 1.9854 - val_acc: 0.7772\n",
            "Epoch 8/15\n",
            "261/261 [==============================] - 6s 22ms/step - loss: 0.0160 - acc: 0.9942 - val_loss: 2.5854 - val_acc: 0.7292\n",
            "Epoch 9/15\n",
            "261/261 [==============================] - 6s 22ms/step - loss: 0.0064 - acc: 0.9983 - val_loss: 2.8978 - val_acc: 0.7436\n",
            "Epoch 10/15\n",
            "261/261 [==============================] - 6s 22ms/step - loss: 0.0124 - acc: 0.9950 - val_loss: 1.8937 - val_acc: 0.7933\n",
            "Epoch 11/15\n",
            "261/261 [==============================] - 6s 22ms/step - loss: 0.0176 - acc: 0.9939 - val_loss: 2.3309 - val_acc: 0.7516\n",
            "Epoch 12/15\n",
            "261/261 [==============================] - 6s 22ms/step - loss: 0.0052 - acc: 0.9981 - val_loss: 3.0734 - val_acc: 0.7516\n",
            "Epoch 13/15\n",
            "261/261 [==============================] - 6s 22ms/step - loss: 0.0011 - acc: 0.9998 - val_loss: 3.9957 - val_acc: 0.7404\n",
            "Epoch 14/15\n",
            "261/261 [==============================] - 6s 22ms/step - loss: 1.3615e-04 - acc: 1.0000 - val_loss: 4.3652 - val_acc: 0.7404\n",
            "Epoch 15/15\n",
            "261/261 [==============================] - 6s 22ms/step - loss: 4.9242e-05 - acc: 1.0000 - val_loss: 4.4643 - val_acc: 0.7404\n"
          ]
        }
      ]
    },
    {
      "cell_type": "markdown",
      "metadata": {
        "id": "UwK64MMHSSiS"
      },
      "source": [
        "**SAVE MODEL**"
      ]
    },
    {
      "cell_type": "code",
      "metadata": {
        "colab": {
          "base_uri": "https://localhost:8080/"
        },
        "id": "3DJF7r3BRMW9",
        "outputId": "58e11cc1-b00d-4b5c-a827-8328a28a3c56"
      },
      "source": [
        "model.save_weights(\"model.h5\")\n",
        "print(\"Saved model to disk\")"
      ],
      "execution_count": 15,
      "outputs": [
        {
          "output_type": "stream",
          "name": "stdout",
          "text": [
            "Saved model to disk\n"
          ]
        }
      ]
    },
    {
      "cell_type": "markdown",
      "metadata": {
        "id": "QyEyrA23_t_F"
      },
      "source": [
        "**EVALUASI MODEL**"
      ]
    },
    {
      "cell_type": "code",
      "metadata": {
        "colab": {
          "base_uri": "https://localhost:8080/",
          "height": 598
        },
        "id": "jFopKMSPyc0k",
        "outputId": "4ab5f8e0-59e8-4890-b988-6ca856e7a7ca"
      },
      "source": [
        "import matplotlib.pyplot as plt\n",
        "import numpy as np\n",
        "\n",
        "plt.style.use(\"ggplot\")\n",
        "plt.figure()\n",
        "plt.plot(np.arange(0, 15), H.history[\"acc\"], label=\"acc_model_1\")\n",
        "plt.plot(np.arange(0, 15), H.history[\"val_acc\"], label=\"val_acc_model_1\")\n",
        "plt.title(\"Acc Result Plot\")\n",
        "plt.xlabel(\"Epoch #\")\n",
        "plt.ylabel(\"Acc\")\n",
        "plt.legend()\n",
        "plt.show()\n",
        "\n",
        "plt.plot(np.arange(0, 15), H.history[\"loss\"], label=\"loss_model_1\")\n",
        "plt.plot(np.arange(0, 15), H.history[\"val_loss\"], label=\"val_loss_model_1\")\n",
        "plt.title(\"Loss Result Plot\")\n",
        "plt.xlabel(\"Epoch #\")\n",
        "plt.ylabel(\"Loss\")\n",
        "plt.legend()\n",
        "plt.show()\n",
        "\n",
        "# SAVE ACCURACY DAN LOSS\n",
        "plt.savefig(\"Accuracy Plot.svg\", format=\"svg\", dpi=1200)\n",
        "plt.savefig(\"Loss Plot.svg\", format=\"svg\", dpi=1200)"
      ],
      "execution_count": 16,
      "outputs": [
        {
          "output_type": "display_data",
          "data": {
            "image/png": "[encoded data removed]",
            "text/plain": [
              "<Figure size 432x288 with 1 Axes>"
            ]
          },
          "metadata": {}
        },
        {
          "output_type": "display_data",
          "data": {
            "image/png": "[encoded data removed]",
            "text/plain": [
              "<Figure size 432x288 with 1 Axes>"
            ]
          },
          "metadata": {}
        },
        {
          "output_type": "display_data",
          "data": {
            "text/plain": [
              "<Figure size 432x288 with 0 Axes>"
            ]
          },
          "metadata": {}
        }
      ]
    },
    {
      "cell_type": "code",
      "metadata": {
        "id": "w3sDPOxXysiP",
        "colab": {
          "base_uri": "https://localhost:8080/"
        },
        "outputId": "f955cd97-41e8-4444-8361-4e31b5d72b74"
      },
      "source": [
        "# Hasil pengerjaan point 4.2\n",
        "from sklearn.metrics import classification_report\n",
        "\n",
        "pred = model.predict(x_test)\n",
        "labels = (pred > 0.5).astype(np.int)\n",
        "\n",
        "print(classification_report(y_test, labels))"
      ],
      "execution_count": 17,
      "outputs": [
        {
          "output_type": "stream",
          "name": "stdout",
          "text": [
            "              precision    recall  f1-score   support\n",
            "\n",
            "           0       0.97      0.32      0.48       234\n",
            "           1       0.71      0.99      0.83       390\n",
            "\n",
            "    accuracy                           0.74       624\n",
            "   macro avg       0.84      0.66      0.65       624\n",
            "weighted avg       0.81      0.74      0.70       624\n",
            "\n"
          ]
        }
      ]
    }
  ]
}
