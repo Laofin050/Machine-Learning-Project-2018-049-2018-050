{
  "nbformat": 4,
  "nbformat_minor": 0,
  "metadata": {
    "colab": {
      "name": "Tugas5_Klasifikasi dengan CNN_ML.ipynb",
      "provenance": [],
      "collapsed_sections": [],
      "include_colab_link": true
    },
    "kernelspec": {
      "display_name": "Python 3",
      "name": "python3"
    },
    "language_info": {
      "name": "python"
    },
    "accelerator": "GPU"
  },
  "cells": [
    {
      "cell_type": "markdown",
      "metadata": {
        "id": "view-in-github",
        "colab_type": "text"
      },
      "source": [
        "<a href=\"https://colab.research.google.com/github/Laofin050/Machine-Learning-Project-2018-049-2018-050/blob/main/Tugas5_Klasifikasi_dengan_CNN_ML.ipynb\" target=\"_parent\"><img src=\"https://colab.research.google.com/assets/colab-badge.svg\" alt=\"Open In Colab\"/></a>"
      ]
    },
    {
      "cell_type": "markdown",
      "metadata": {
        "id": "B7w19vaA_0jz"
      },
      "source": [
        "**TUGAS 5 - ML - MATERI: Klasifikasi dengan CNN**\n",
        "\n",
        "**Feny Septhalia Insyira Putri - 201810370311049**\n",
        "\n",
        "**Laofin Arifa - 201810370311050**"
      ]
    },
    {
      "cell_type": "markdown",
      "metadata": {
        "id": "OBzdIotaQp0a"
      },
      "source": [
        "**LOAD DATA**"
      ]
    },
    {
      "cell_type": "code",
      "metadata": {
        "colab": {
          "base_uri": "https://localhost:8080/"
        },
        "id": "UwazHos4Z5pp",
        "outputId": "77e0a302-8d85-436b-e11e-a8dfd5c6ccc5"
      },
      "source": [
        "!kaggle datasets download -d paultimothymooney/chest-xray-pneumonia"
      ],
      "execution_count": 3,
      "outputs": [
        {
          "output_type": "stream",
          "name": "stdout",
          "text": [
            "Downloading chest-xray-pneumonia.zip to /content\n",
            "100% 2.29G/2.29G [00:25<00:00, 31.0MB/s]\n",
            "100% 2.29G/2.29G [00:25<00:00, 96.0MB/s]\n"
          ]
        }
      ]
    },
    {
      "cell_type": "code",
      "metadata": {
        "id": "wgU-yDUG4yS3"
      },
      "source": [
        "api_token = {\"username\":\"fenysepthalia09\",\"key\":\"d6f7a0d96b5b3b3e3aaa71f0afe86737\"}\n",
        "import json\n",
        "import zipfile\n",
        "import os\n",
        "with open('/root/.kaggle/kaggle.json', 'w') as file:\n",
        "    json.dump(api_token, file)\n",
        "!chmod 600 /root/.kaggle/kaggle.json"
      ],
      "execution_count": 2,
      "outputs": []
    },
    {
      "cell_type": "code",
      "metadata": {
        "id": "hoXSjW0pa9Oc"
      },
      "source": [
        "import os\n",
        "import zipfile\n",
        "\n",
        "local_zip = '/content/chest-xray-pneumonia.zip' #lokasi zip\n",
        "zip_ref = zipfile.ZipFile(local_zip, 'r') # file zip\n",
        "zip_ref.extractall('/content/') #ekstrak zip\n",
        "zip_ref.close()"
      ],
      "execution_count": 4,
      "outputs": []
    },
    {
      "cell_type": "markdown",
      "metadata": {
        "id": "2ygelq7y_k1p"
      },
      "source": [
        "**DATA PREPROCESSING**"
      ]
    },
    {
      "cell_type": "code",
      "metadata": {
        "id": "HQVHKMRlnMdv",
        "colab": {
          "base_uri": "https://localhost:8080/"
        },
        "outputId": "bc6da9bb-9155-4ae5-e854-4c4d2fe442e1"
      },
      "source": [
        "import os\n",
        "import cv2 \n",
        "import numpy as np\n",
        "\n",
        "# Gather data train\n",
        "train_data = []\n",
        "train_label = []\n",
        "\n",
        "train_dir=os.path.join('/content/chest_xray/train')\n",
        "for r, d, f in os.walk(train_dir):\n",
        "    for file in f:\n",
        "        if \".jpeg\" in file:\n",
        "            imagePath = os.path.join(r, file)\n",
        "            image = cv2.imread(imagePath)\n",
        "            image = cv2.resize(image, (150,150))\n",
        "            train_data.append(image)\n",
        "            label = imagePath.split(os.path.sep)[-2]\n",
        "            train_label.append(label)\n",
        "\n",
        "train_data = np.array(train_data)\n",
        "train_label = np.array(train_label)\n",
        "\n",
        "print(\"Train Data = \", train_data.shape)\n",
        "print(\"Train Label = \", train_label.shape)"
      ],
      "execution_count": 8,
      "outputs": [
        {
          "output_type": "stream",
          "name": "stdout",
          "text": [
            "Train Data =  (5216, 150, 150, 3)\n",
            "Train Label =  (5216,)\n"
          ]
        }
      ]
    },
    {
      "cell_type": "code",
      "metadata": {
        "id": "HpSWfcM-RjFC",
        "colab": {
          "base_uri": "https://localhost:8080/"
        },
        "outputId": "7be78f29-7a12-4299-d022-8b1266e8f03e"
      },
      "source": [
        "test_data = []\n",
        "test_label = []\n",
        "\n",
        "# Gather data test\n",
        "test_dir=os.path.join('/content/chest_xray/test')\n",
        "for r, d, f in os.walk(test_dir):\n",
        "    for file in f:\n",
        "        if \".jpeg\" in file:\n",
        "            imagePath = os.path.join(r, file)\n",
        "            image = cv2.imread(imagePath)\n",
        "            image = cv2.resize(image, (150,150))\n",
        "            test_data.append(image)\n",
        "            label = imagePath.split(os.path.sep)[-2]\n",
        "            test_label.append(label)\n",
        "\n",
        "test_data = np.array(test_data)\n",
        "test_label = np.array(test_label)\n",
        "\n",
        "print(\"Test Data = \", test_data.shape)\n",
        "print(\"Test Label = \", test_label.shape)"
      ],
      "execution_count": 9,
      "outputs": [
        {
          "output_type": "stream",
          "name": "stdout",
          "text": [
            "Test Data =  (624, 150, 150, 3)\n",
            "Test Label =  (624,)\n"
          ]
        }
      ]
    },
    {
      "cell_type": "code",
      "metadata": {
        "colab": {
          "base_uri": "https://localhost:8080/"
        },
        "id": "MMInLh0rSOUg",
        "outputId": "dda13e89-97a3-4b1b-c0d7-a818e85f81c9"
      },
      "source": [
        "# Normalisasi dataset\n",
        "print(\"Data sebelum di-normalisasi \", train_data[0][0][0])\n",
        "x_train = train_data.astype('float32') / 255.0\n",
        "x_test = test_data.astype('float32') / 255.0\n",
        "print(\"Data setelah di-normalisasi \", x_train[0][0][0])"
      ],
      "execution_count": 10,
      "outputs": [
        {
          "output_type": "stream",
          "name": "stdout",
          "text": [
            "Data sebelum di-normalisasi  [39 39 39]\n",
            "Data setelah di-normalisasi  [0.15294118 0.15294118 0.15294118]\n"
          ]
        }
      ]
    },
    {
      "cell_type": "code",
      "metadata": {
        "colab": {
          "base_uri": "https://localhost:8080/"
        },
        "id": "SVL_BAwoSkLV",
        "outputId": "6f84b76c-8442-4442-a608-51d1612b4f1b"
      },
      "source": [
        "from sklearn.preprocessing import LabelEncoder\n",
        "print(\"Label sebelum di-encoder \", train_label[995:1005])\n",
        "\n",
        "lb = LabelEncoder()\n",
        "y_train = lb.fit_transform(train_label)\n",
        "y_test = lb.fit_transform(test_label)\n",
        "\n",
        "print(\"Label setelah di-encoder \", y_train[995:1005])"
      ],
      "execution_count": 11,
      "outputs": [
        {
          "output_type": "stream",
          "name": "stdout",
          "text": [
            "Label sebelum di-encoder  ['PNEUMONIA' 'PNEUMONIA' 'PNEUMONIA' 'PNEUMONIA' 'PNEUMONIA' 'PNEUMONIA'\n",
            " 'PNEUMONIA' 'PNEUMONIA' 'PNEUMONIA' 'PNEUMONIA']\n",
            "Label setelah di-encoder  [1 1 1 1 1 1 1 1 1 1]\n"
          ]
        }
      ]
    },
    {
      "cell_type": "markdown",
      "metadata": {
        "id": "5cty4I2u_pGf"
      },
      "source": [
        "**MODELLING**"
      ]
    },
    {
      "cell_type": "code",
      "metadata": {
        "id": "U-CMwh76StAH"
      },
      "source": [
        "from tensorflow.keras.models import Sequential\n",
        "from tensorflow.keras.layers import InputLayer, Dense, Conv2D, MaxPool2D, Flatten"
      ],
      "execution_count": 26,
      "outputs": []
    },
    {
      "cell_type": "code",
      "metadata": {
        "id": "wZ8kwLWs-AQM"
      },
      "source": [
        "model = Sequential()\n",
        "\n",
        "model.add(InputLayer(input_shape=[150,150,3]))\n",
        "model.add(Conv2D(filters=16, kernel_size=3, strides=1, padding='same', activation='relu'))\n",
        "model.add(MaxPool2D(pool_size=2, padding='same'))\n",
        "model.add(Conv2D(filters=32, kernel_size=3, strides=1, padding='same', activation='relu'))\n",
        "model.add(MaxPool2D(pool_size=2, padding='same'))\n",
        "model.add(Conv2D(filters=64, kernel_size=3, strides=1, padding='same', activation='relu'))\n",
        "model.add(MaxPool2D(pool_size=2, padding='same'))\n",
        "model.add(Flatten())"
      ],
      "execution_count": 27,
      "outputs": []
    },
    {
      "cell_type": "code",
      "metadata": {
        "id": "8dW_S4zu-HcB"
      },
      "source": [
        "model.add(Dense(128, activation='relu'))\n",
        "model.add(Dense(1, activation='sigmoid'))"
      ],
      "execution_count": 28,
      "outputs": []
    },
    {
      "cell_type": "code",
      "metadata": {
        "colab": {
          "base_uri": "https://localhost:8080/"
        },
        "id": "QdPboAYM-HX3",
        "outputId": "7073943c-b42f-43ef-f52e-8a32fd121f88"
      },
      "source": [
        "print(model.summary())"
      ],
      "execution_count": 29,
      "outputs": [
        {
          "output_type": "stream",
          "name": "stdout",
          "text": [
            "Model: \"sequential_7\"\n",
            "_________________________________________________________________\n",
            " Layer (type)                Output Shape              Param #   \n",
            "=================================================================\n",
            " conv2d_14 (Conv2D)          (None, 150, 150, 16)      448       \n",
            "                                                                 \n",
            " max_pooling2d (MaxPooling2D  (None, 75, 75, 16)       0         \n",
            " )                                                               \n",
            "                                                                 \n",
            " conv2d_15 (Conv2D)          (None, 75, 75, 32)        4640      \n",
            "                                                                 \n",
            " max_pooling2d_1 (MaxPooling  (None, 38, 38, 32)       0         \n",
            " 2D)                                                             \n",
            "                                                                 \n",
            " conv2d_16 (Conv2D)          (None, 38, 38, 64)        18496     \n",
            "                                                                 \n",
            " max_pooling2d_2 (MaxPooling  (None, 19, 19, 64)       0         \n",
            " 2D)                                                             \n",
            "                                                                 \n",
            " flatten_7 (Flatten)         (None, 23104)             0         \n",
            "                                                                 \n",
            " dense_18 (Dense)            (None, 128)               2957440   \n",
            "                                                                 \n",
            " dense_19 (Dense)            (None, 1)                 129       \n",
            "                                                                 \n",
            "=================================================================\n",
            "Total params: 2,981,153\n",
            "Trainable params: 2,981,153\n",
            "Non-trainable params: 0\n",
            "_________________________________________________________________\n",
            "None\n"
          ]
        }
      ]
    },
    {
      "cell_type": "code",
      "metadata": {
        "colab": {
          "base_uri": "https://localhost:8080/"
        },
        "id": "-uCHhq2ZTkSG",
        "outputId": "e0ab730c-371c-4a84-e5d4-4a7c21c701f8"
      },
      "source": [
        "from tensorflow.keras.optimizers import Adam\n",
        "\n",
        "model.compile(optimizer=Adam(lr=0.001), \n",
        "              loss='binary_crossentropy', \n",
        "              metrics=['acc'])"
      ],
      "execution_count": 30,
      "outputs": [
        {
          "output_type": "stream",
          "name": "stderr",
          "text": [
            "/usr/local/lib/python3.7/dist-packages/keras/optimizer_v2/adam.py:105: UserWarning: The `lr` argument is deprecated, use `learning_rate` instead.\n",
            "  super(Adam, self).__init__(name, **kwargs)\n"
          ]
        }
      ]
    },
    {
      "cell_type": "code",
      "metadata": {
        "colab": {
          "base_uri": "https://localhost:8080/"
        },
        "id": "wItXATPN-STp",
        "outputId": "454529b1-da03-4ac8-de50-b2182985f099"
      },
      "source": [
        "H = model.fit(x_train, y_train, batch_size=20, epochs=15, validation_data=(x_test, y_test))"
      ],
      "execution_count": 31,
      "outputs": [
        {
          "output_type": "stream",
          "name": "stdout",
          "text": [
            "Epoch 1/15\n",
            "261/261 [==============================] - 37s 26ms/step - loss: 0.2232 - acc: 0.9059 - val_loss: 0.6337 - val_acc: 0.7853\n",
            "Epoch 2/15\n",
            "261/261 [==============================] - 6s 23ms/step - loss: 0.0991 - acc: 0.9632 - val_loss: 0.4573 - val_acc: 0.8413\n",
            "Epoch 3/15\n",
            "261/261 [==============================] - 6s 23ms/step - loss: 0.0753 - acc: 0.9703 - val_loss: 1.3697 - val_acc: 0.7420\n",
            "Epoch 4/15\n",
            "261/261 [==============================] - 6s 23ms/step - loss: 0.0573 - acc: 0.9795 - val_loss: 1.0369 - val_acc: 0.7853\n",
            "Epoch 5/15\n",
            "261/261 [==============================] - 6s 23ms/step - loss: 0.0456 - acc: 0.9824 - val_loss: 1.9310 - val_acc: 0.7212\n",
            "Epoch 6/15\n",
            "261/261 [==============================] - 6s 23ms/step - loss: 0.0364 - acc: 0.9870 - val_loss: 1.9466 - val_acc: 0.7324\n",
            "Epoch 7/15\n",
            "261/261 [==============================] - 6s 23ms/step - loss: 0.0267 - acc: 0.9906 - val_loss: 2.3144 - val_acc: 0.7147\n",
            "Epoch 8/15\n",
            "261/261 [==============================] - 6s 23ms/step - loss: 0.0232 - acc: 0.9912 - val_loss: 2.0089 - val_acc: 0.7436\n",
            "Epoch 9/15\n",
            "261/261 [==============================] - 6s 23ms/step - loss: 0.0160 - acc: 0.9939 - val_loss: 2.4829 - val_acc: 0.7179\n",
            "Epoch 10/15\n",
            "261/261 [==============================] - 6s 23ms/step - loss: 0.0157 - acc: 0.9944 - val_loss: 3.1548 - val_acc: 0.7276\n",
            "Epoch 11/15\n",
            "261/261 [==============================] - 6s 23ms/step - loss: 0.0049 - acc: 0.9987 - val_loss: 3.5695 - val_acc: 0.7500\n",
            "Epoch 12/15\n",
            "261/261 [==============================] - 6s 23ms/step - loss: 0.0059 - acc: 0.9969 - val_loss: 3.2155 - val_acc: 0.7468\n",
            "Epoch 13/15\n",
            "261/261 [==============================] - 6s 23ms/step - loss: 0.0183 - acc: 0.9912 - val_loss: 3.1744 - val_acc: 0.7484\n",
            "Epoch 14/15\n",
            "261/261 [==============================] - 6s 23ms/step - loss: 0.0076 - acc: 0.9975 - val_loss: 2.5107 - val_acc: 0.7612\n",
            "Epoch 15/15\n",
            "261/261 [==============================] - 6s 23ms/step - loss: 0.0115 - acc: 0.9956 - val_loss: 3.1773 - val_acc: 0.7724\n"
          ]
        }
      ]
    },
    {
      "cell_type": "markdown",
      "metadata": {
        "id": "QyEyrA23_t_F"
      },
      "source": [
        "**EVALUASI MODEL**"
      ]
    },
    {
      "cell_type": "code",
      "metadata": {
        "colab": {
          "base_uri": "https://localhost:8080/",
          "height": 581
        },
        "id": "jFopKMSPyc0k",
        "outputId": "af11cd59-3fa5-4e57-bbca-55dfea9931f1"
      },
      "source": [
        "import matplotlib.pyplot as plt\n",
        "import numpy as np\n",
        "\n",
        "plt.style.use(\"ggplot\")\n",
        "plt.figure()\n",
        "plt.plot(np.arange(0, 15), H.history[\"acc\"], label=\"acc_model_1\")\n",
        "plt.plot(np.arange(0, 15), H.history[\"val_acc\"], label=\"val_acc_model_1\")\n",
        "plt.title(\"Acc Result Plot\")\n",
        "plt.xlabel(\"Epoch #\")\n",
        "plt.ylabel(\"Acc\")\n",
        "plt.legend()\n",
        "plt.show()\n",
        "\n",
        "plt.plot(np.arange(0, 15), H.history[\"loss\"], label=\"loss_model_1\")\n",
        "plt.plot(np.arange(0, 15), H.history[\"val_loss\"], label=\"val_loss_model_1\")\n",
        "plt.title(\"Loss Result Plot\")\n",
        "plt.xlabel(\"Epoch #\")\n",
        "plt.ylabel(\"Loss\")\n",
        "plt.legend()\n",
        "plt.show()"
      ],
      "execution_count": 33,
      "outputs": [
        {
          "output_type": "display_data",
          "data": {
            "image/png": "[encoded data removed]",
            "text/plain": [
              "<Figure size 432x288 with 1 Axes>"
            ]
          },
          "metadata": {}
        },
        {
          "output_type": "display_data",
          "data": {
            "image/png": "[encoded data removed]",
            "text/plain": [
              "<Figure size 432x288 with 1 Axes>"
            ]
          },
          "metadata": {}
        }
      ]
    },
    {
      "cell_type": "code",
      "metadata": {
        "id": "w3sDPOxXysiP",
        "colab": {
          "base_uri": "https://localhost:8080/"
        },
        "outputId": "26ded00b-6dff-4d5a-b777-fe847dddf619"
      },
      "source": [
        "# Hasil pengerjaan point 4.2\n",
        "from sklearn.metrics import classification_report\n",
        "\n",
        "pred = model.predict(x_test)\n",
        "labels = (pred > 0.5).astype(np.int)\n",
        "\n",
        "print(classification_report(y_test, labels))"
      ],
      "execution_count": 34,
      "outputs": [
        {
          "output_type": "stream",
          "name": "stdout",
          "text": [
            "              precision    recall  f1-score   support\n",
            "\n",
            "           0       0.98      0.40      0.57       234\n",
            "           1       0.73      0.99      0.85       390\n",
            "\n",
            "    accuracy                           0.77       624\n",
            "   macro avg       0.86      0.70      0.71       624\n",
            "weighted avg       0.83      0.77      0.74       624\n",
            "\n"
          ]
        }
      ]
    }
  ]
}