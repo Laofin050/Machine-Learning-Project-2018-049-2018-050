{
  "nbformat": 4,
  "nbformat_minor": 0,
  "metadata": {
    "colab": {
      "name": "Tugas 4 ML_Modifikasi ANN.ipynb",
      "private_outputs": true,
      "provenance": [],
      "authorship_tag": "ABX9TyOFIigBy8FflLBf9l/Wla2E",
      "include_colab_link": true
    },
    "kernelspec": {
      "name": "python3",
      "display_name": "Python 3"
    },
    "language_info": {
      "name": "python"
    },
    "accelerator": "GPU"
  },
  "cells": [
    {
      "cell_type": "markdown",
      "metadata": {
        "id": "view-in-github",
        "colab_type": "text"
      },
      "source": [
        "<a href=\"https://colab.research.google.com/github/Laofin050/Machine-Learning-Project-2018-049-2018-050/blob/main/Tugas_4_ML_Modifikasi_ANN.ipynb\" target=\"_parent\"><img src=\"https://colab.research.google.com/assets/colab-badge.svg\" alt=\"Open In Colab\"/></a>"
      ]
    },
    {
      "cell_type": "markdown",
      "metadata": {
        "id": "iEHpFwNWfLLp"
      },
      "source": [
        "**Nama-Nim : Feny Septhalia Insyira Putri-201810370311049**\n",
        "\n",
        "**Nama-Nim : Lauvin Arifa - 201810370311050**"
      ]
    },
    {
      "cell_type": "code",
      "metadata": {
        "id": "dNOoKTY5HuRe"
      },
      "source": [
        "!kaggle datasets download -d paultimothymooney/chest-xray-pneumonia"
      ],
      "execution_count": null,
      "outputs": []
    },
    {
      "cell_type": "code",
      "metadata": {
        "id": "VtzLDOfCSQrR"
      },
      "source": [
        "api_token = {\"username\":\"fenysepthalia09\",\"key\":\"96c65641077f7e241c12cab512affab7\"}\n",
        "import json\n",
        "import zipfile\n",
        "import os\n",
        "with open('/root/.kaggle/kaggle.json', 'w') as file:\n",
        "    json.dump(api_token, file)\n",
        "!chmod 600 /root/.kaggle/kaggle.json"
      ],
      "execution_count": null,
      "outputs": []
    },
    {
      "cell_type": "code",
      "metadata": {
        "id": "HL3q-dr7SQxz"
      },
      "source": [
        "import os\n",
        "import zipfile\n",
        "\n",
        "local_zip = '/content/chest-xray-pneumonia.zip'\n",
        "zip_ref = zipfile.ZipFile(local_zip, 'r')\n",
        "zip_ref.extractall('/content/')\n",
        "zip_ref.close()"
      ],
      "execution_count": null,
      "outputs": []
    },
    {
      "cell_type": "code",
      "metadata": {
        "id": "Znfi4rzsSQ5A"
      },
      "source": [
        "import os\n",
        "test_b = \"/content/chest_xray/train/NORMAL\"\n",
        "test_m = \"/content/chest_xray/train/PNEUMONIA\"\n",
        "train_b = \"/content/chest_xray/val/NORMAL\"\n",
        "train_m = \"/content/chest_xray/val/PNEUMONIA\"\n",
        "\n",
        "file_test_b = os.listdir(test_b)\n",
        "file_test_m = os.listdir(test_m)\n",
        "file_train_b = os.listdir(train_b)\n",
        "file_train_m = os.listdir(train_m)\n",
        "\n",
        "print(\"Normal_train : \" + str(len(file_test_b)))\n",
        "print(\"Pneumonia_train : \" + str(len(file_test_m)))\n",
        "print(\"Normal_val : \" + str(len(file_train_b)))\n",
        "print(\"Pneumonia_val : \" + str(len(file_train_m)))"
      ],
      "execution_count": null,
      "outputs": []
    },
    {
      "cell_type": "code",
      "metadata": {
        "id": "Z2OW2pNUSQ8B"
      },
      "source": [
        "print(os.listdir(test_b)[:10])\n",
        "print(os.listdir(test_m)[:10])\n",
        "print(os.listdir(train_b)[:10])\n",
        "print(os.listdir(train_m)[:10])"
      ],
      "execution_count": null,
      "outputs": []
    },
    {
      "cell_type": "code",
      "metadata": {
        "id": "pjSLiB-vSQ_f"
      },
      "source": [
        "import matplotlib.pyplot as plt\n",
        "import matplotlib.image as mping\n",
        "\n",
        "Normal_dir=os.path.join('/content/chest_xray/train/NORMAL')\n",
        "Pneumonia_dir=os.path.join('/content/chest_xray/train/PNEUMONIA')\n",
        "\n",
        "Normal_image = os.listdir(Normal_dir)\n",
        "Pneumonia_image = os.listdir(Pneumonia_dir)\n",
        "\n",
        "fname1 = [os.path.join(Normal_dir,fname)\n",
        "        for fname in Normal_image[:4]]\n",
        "\n",
        "fname2 = [os.path.join(Pneumonia_dir,fname)\n",
        "        for fname in Pneumonia_image[:4]]\n",
        "\n",
        "ncolu = 4\n",
        "nrow = 2\n",
        "fig = plt.gcf()\n",
        "fig.set_size_inches(ncolu*4,nrow*4)\n",
        "for i,fname in enumerate(fname1):\n",
        "    sp = plt.subplot(2,4,i+1)\n",
        "    sp.axis('off')\n",
        "    img = mping.imread(fname)\n",
        "    plt.title('Normal')\n",
        "    plt.imshow(img)\n",
        "plt.show()\n",
        "\n",
        "ncolu = 4\n",
        "nrow = 2\n",
        "fig = plt.gcf()\n",
        "fig.set_size_inches(ncolu*4,nrow*4)\n",
        "for i,fname in enumerate(fname2):\n",
        "    sp = plt.subplot(2,4,i+1)\n",
        "    sp.axis('off')\n",
        "    img = mping.imread(fname)\n",
        "    plt.title('Pneumonia')\n",
        "    plt.imshow(img)\n",
        "    \n",
        "plt.show()"
      ],
      "execution_count": null,
      "outputs": []
    },
    {
      "cell_type": "code",
      "metadata": {
        "id": "3fJ1jBfZSRCJ"
      },
      "source": [
        "import os\n",
        "import cv2\n",
        "import numpy as np\n",
        "\n",
        "train_data = []\n",
        "train_label = []\n",
        "\n",
        "train_dir=os.path.join('/content/chest_xray/train')\n",
        "for r, d, f in os.walk(train_dir):\n",
        "    for file in f:\n",
        "        if \".jpeg\" in file:\n",
        "            imagePath = os.path.join(r, file)\n",
        "            image = cv2.imread(imagePath)\n",
        "            image = cv2.resize(image, (250,250))\n",
        "            train_data.append(image)\n",
        "            label = imagePath.split(os.path.sep)[-2]\n",
        "            train_label.append(label)\n",
        "\n",
        "train_data = np.array(train_data)\n",
        "train_label = np.array(train_label)"
      ],
      "execution_count": null,
      "outputs": []
    },
    {
      "cell_type": "code",
      "metadata": {
        "id": "SEQRHg4pSREW"
      },
      "source": [
        "import os\n",
        "import cv2\n",
        "import numpy as np\n",
        "\n",
        "val_data = []\n",
        "val_label = []\n",
        "\n",
        "vali_dir=os.path.join('/content/chest_xray/val')\n",
        "for r, d, f in os.walk(vali_dir):\n",
        "    for file in f:\n",
        "        if \".jpeg\" in file:\n",
        "            imagePath = os.path.join(r, file)\n",
        "            image = cv2.imread(imagePath)\n",
        "            image = cv2.resize(image, (250,250))\n",
        "            val_data.append(image)\n",
        "            label = imagePath.split(os.path.sep)[-2]\n",
        "            val_label.append(label)\n",
        "\n",
        "val_data = np.array(val_data)\n",
        "val_label = np.array(val_label)"
      ],
      "execution_count": null,
      "outputs": []
    },
    {
      "cell_type": "code",
      "metadata": {
        "id": "v9Qc-_aCSRG9"
      },
      "source": [
        "print(\"Train Data = \", train_data.shape)\n",
        "print(\"Train Label = \", train_label.shape)\n",
        "print(\"Validation Data = \", val_data.shape)\n",
        "print(\"Validation Label = \", val_label.shape)"
      ],
      "execution_count": null,
      "outputs": []
    },
    {
      "cell_type": "code",
      "metadata": {
        "id": "zNRloT_mSRJ_"
      },
      "source": [
        "print(\"Data sebelum di-normalisasi \", train_data[0][0][0])\n",
        "x_train = train_data.astype('float32') / 255.0\n",
        "x_val = val_data.astype('float32') / 255.0\n",
        "print(\"Data setelah di-normalisasi \", x_train[0][0][0])"
      ],
      "execution_count": null,
      "outputs": []
    },
    {
      "cell_type": "code",
      "metadata": {
        "id": "DOkQ-zT2SRMn"
      },
      "source": [
        "from sklearn.preprocessing import LabelEncoder\n",
        "\n",
        "print(\"Label sebelum di-encoder \", train_label[995:1005])\n",
        "\n",
        "lb = LabelEncoder()\n",
        "y_train = lb.fit_transform(train_label)\n",
        "y_val = lb.fit_transform(val_label)\n",
        "\n",
        "print(\"Label setelah di-encoder \", y_train[995:1005])"
      ],
      "execution_count": null,
      "outputs": []
    },
    {
      "cell_type": "code",
      "metadata": {
        "id": "9K1il5OcSRPV"
      },
      "source": [
        "from tensorflow.keras import layers\n",
        "from tensorflow.keras import Model\n",
        "\n",
        "img_input = layers.Input(shape=(250, 250, 3))\n",
        "x = layers.Flatten()(img_input)\n",
        "x = layers.Dense(512, activation='relu')(x)\n",
        "x = layers.Dense(256, activation='relu')(x)\n",
        "x = layers.Dense(128, activation='relu')(x)\n",
        "output = layers.Dense(1, activation='sigmoid')(x) \n",
        "\n",
        "# Definisikan modelnya\n",
        "model = Model(img_input, output)\n",
        "model.summary()"
      ],
      "execution_count": null,
      "outputs": []
    },
    {
      "cell_type": "code",
      "metadata": {
        "id": "0_Eks5_iSRXb"
      },
      "source": [
        "from tensorflow.keras.optimizers import Adam\n",
        "\n",
        "# Compile model\n",
        "model.compile(loss='binary_crossentropy',\n",
        "              optimizer=Adam(lr=0.001), #\n",
        "              metrics=['acc'])\n",
        "H = model.fit(x_train, y_train, batch_size=32, epochs=50, validation_data=(x_val, y_val))"
      ],
      "execution_count": null,
      "outputs": []
    },
    {
      "cell_type": "code",
      "metadata": {
        "id": "XzZkdifBSRaX"
      },
      "source": [
        "import matplotlib.pyplot as plt\n",
        "plt.style.use(\"ggplot\")\n",
        "plt.figure()\n",
        "plt.plot(np.arange(0, 50), H.history[\"acc\"], label=\"train_loss\")\n",
        "plt.plot(np.arange(0, 50), H.history[\"val_loss\"], label=\"val_loss\")\n",
        "plt.title(\"Loss Plot\")\n",
        "plt.xlabel(\"Epoch #\")\n",
        "plt.ylabel(\"Loss\")\n",
        "plt.legend()\n",
        "plt.show()"
      ],
      "execution_count": null,
      "outputs": []
    },
    {
      "cell_type": "code",
      "metadata": {
        "id": "x2d3ofC3eeLs"
      },
      "source": [
        "plt.style.use(\"ggplot\")\n",
        "plt.figure()\n",
        "plt.plot(np.arange(0, 50), H.history[\"acc\"], label=\"train_acc\")\n",
        "plt.plot(np.arange(0, 50), H.history[\"val_acc\"], label=\"val_acc\")\n",
        "plt.title(\"Accuracy Plot\")\n",
        "plt.xlabel(\"Epoch #\")\n",
        "plt.ylabel(\"Acc\")\n",
        "plt.legend()\n",
        "plt.show()"
      ],
      "execution_count": null,
      "outputs": []
    },
    {
      "cell_type": "code",
      "metadata": {
        "id": "F1RGkIK0SRdK"
      },
      "source": [
        "\n",
        "from sklearn.metrics import classification_report\n",
        "\n",
        "pred = model.predict(x_val)\n",
        "labels = (pred > 0.5).astype(np.int)\n",
        "\n",
        "print(classification_report(y_val, labels))"
      ],
      "execution_count": null,
      "outputs": []
    }
  ]
}